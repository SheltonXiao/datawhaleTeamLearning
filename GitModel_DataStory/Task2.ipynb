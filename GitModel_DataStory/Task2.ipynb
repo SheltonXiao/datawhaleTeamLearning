{
 "cells": [
  {
   "cell_type": "markdown",
   "metadata": {},
   "source": [
    "# Task 2 多元数值向量的假设检验\n",
    "关于多元数值向量\n",
    "> 单变量问题和多变量问题的区别是什么——主要在于微观与宏观的区别。单变量问题研究的是具体某一个指标的性质，而多变量问题则是将多个指标作为一个整体，用它们去描述一个对象的性质。"
   ]
  },
  {
   "cell_type": "markdown",
   "metadata": {},
   "source": [
    "## 1 均值向量的检验\n",
    "> 均值向量检验的内容架构与均值检验的架构是一样的，主要内容有：\n",
    "> - 比较一组数据的总体均值向量与一个固定向量是否相等的检验\n",
    "> - 比较两组数据的总体均值向量之间是否相等的检验\n",
    "> - 比较两组以上的多组数据的总体均值向量之间是否相等的检验          \n",
    "\n",
    "> 在多元领域，有一个检验和t检验非常类似——Hotelling T2检验，该检验在变量个数等于1时就退化成了t检验。"
   ]
  },
  {
   "cell_type": "markdown",
   "metadata": {},
   "source": [
    "<img src='pic/Task2_1.png'>"
   ]
  },
  {
   "cell_type": "markdown",
   "metadata": {},
   "source": [
    "## 2 从多元到一元——寻找显著的变量"
   ]
  },
  {
   "cell_type": "markdown",
   "metadata": {},
   "source": [
    "> 多元均值向量的检验可以告诉我们不同分析对象的某个宏观性质（如城市企业的发展状况）是否存在显著区别，如果我们拒绝了原假设，便可以说明它们确实存在显著区别。但是在实际分析中，仅仅得出“它们存在显著区别”的结论是远远不够的，我们会想知道，究竟是什么变量导致了这种显著区别呢？这个时候，我们就要是用一元的均值向量检验来回答这一问题。\n",
    "\n",
    "> 也就是说，在实际分析当中，往往都是始于“多元”，终于“一元”。"
   ]
  },
  {
   "cell_type": "markdown",
   "metadata": {},
   "source": [
    "<img src='pic/Task2_2.png'>"
   ]
  },
  {
   "cell_type": "markdown",
   "metadata": {},
   "source": [
    "## 作业\n",
    "为研究东、中、西部各省市规模以上的企业发展状况，我们收集了各城市企业的主要经济指标，包括：总资产贡献率、资产负债率、流动资产周转次数、工业成本费用利润率、产品销售率。我们用变量“类别”定义了各类城市，其中1为东部城市；2为中部城市；3为西部城市。数据文件为homework2.xlsx。假设显著性水平为，问：\n",
    "\n",
    "1. 对三个类别的城市进行均值向量间的两两比较，查看结果\n",
    "\n",
    "2. 对三个类别的城市同时进行均值向量间的比较，查看结果\n",
    "\n",
    "3. 承接问题2，你认为哪些变量导致了三个类别城市均值向量的差异？说出你的理由。"
   ]
  },
  {
   "cell_type": "code",
   "execution_count": 1,
   "metadata": {},
   "outputs": [],
   "source": [
    "# 加载必要的包\n",
    "import numpy as np\n",
    "import pandas as pd\n",
    "from scipy import stats\n",
    "import matplotlib.pyplot as plt\n",
    "from IPython.display import display\n",
    "from scipy.stats import f\n",
    "from itertools import product"
   ]
  },
  {
   "cell_type": "code",
   "execution_count": 2,
   "metadata": {},
   "outputs": [],
   "source": [
    "#加载作业数据\n",
    "df = pd.read_excel('data/homework2.xlsx',index_col = 0)"
   ]
  },
  {
   "cell_type": "code",
   "execution_count": 3,
   "metadata": {},
   "outputs": [
    {
     "data": {
      "text/html": [
       "<div>\n",
       "<style scoped>\n",
       "    .dataframe tbody tr th:only-of-type {\n",
       "        vertical-align: middle;\n",
       "    }\n",
       "\n",
       "    .dataframe tbody tr th {\n",
       "        vertical-align: top;\n",
       "    }\n",
       "\n",
       "    .dataframe thead th {\n",
       "        text-align: right;\n",
       "    }\n",
       "</style>\n",
       "<table border=\"1\" class=\"dataframe\">\n",
       "  <thead>\n",
       "    <tr style=\"text-align: right;\">\n",
       "      <th></th>\n",
       "      <th>类别</th>\n",
       "      <th>总资产贡献率</th>\n",
       "      <th>资产负债率</th>\n",
       "      <th>流动资产周转次数</th>\n",
       "      <th>工业成本费用利润率</th>\n",
       "      <th>产品销售率</th>\n",
       "    </tr>\n",
       "    <tr>\n",
       "      <th>地区</th>\n",
       "      <th></th>\n",
       "      <th></th>\n",
       "      <th></th>\n",
       "      <th></th>\n",
       "      <th></th>\n",
       "      <th></th>\n",
       "    </tr>\n",
       "  </thead>\n",
       "  <tbody>\n",
       "    <tr>\n",
       "      <th>北京</th>\n",
       "      <td>1</td>\n",
       "      <td>7.56</td>\n",
       "      <td>51.85</td>\n",
       "      <td>1.50</td>\n",
       "      <td>7.77</td>\n",
       "      <td>99.04</td>\n",
       "    </tr>\n",
       "    <tr>\n",
       "      <th>天津</th>\n",
       "      <td>1</td>\n",
       "      <td>17.41</td>\n",
       "      <td>63.47</td>\n",
       "      <td>2.26</td>\n",
       "      <td>9.41</td>\n",
       "      <td>98.89</td>\n",
       "    </tr>\n",
       "    <tr>\n",
       "      <th>河北</th>\n",
       "      <td>1</td>\n",
       "      <td>13.83</td>\n",
       "      <td>59.40</td>\n",
       "      <td>3.27</td>\n",
       "      <td>6.19</td>\n",
       "      <td>97.79</td>\n",
       "    </tr>\n",
       "    <tr>\n",
       "      <th>山西</th>\n",
       "      <td>2</td>\n",
       "      <td>9.54</td>\n",
       "      <td>69.61</td>\n",
       "      <td>1.71</td>\n",
       "      <td>5.71</td>\n",
       "      <td>97.34</td>\n",
       "    </tr>\n",
       "    <tr>\n",
       "      <th>内蒙古</th>\n",
       "      <td>3</td>\n",
       "      <td>14.90</td>\n",
       "      <td>61.25</td>\n",
       "      <td>2.29</td>\n",
       "      <td>12.12</td>\n",
       "      <td>97.10</td>\n",
       "    </tr>\n",
       "  </tbody>\n",
       "</table>\n",
       "</div>"
      ],
      "text/plain": [
       "     类别  总资产贡献率  资产负债率  流动资产周转次数  工业成本费用利润率  产品销售率\n",
       "地区                                                \n",
       "北京    1    7.56  51.85      1.50       7.77  99.04\n",
       "天津    1   17.41  63.47      2.26       9.41  98.89\n",
       "河北    1   13.83  59.40      3.27       6.19  97.79\n",
       "山西    2    9.54  69.61      1.71       5.71  97.34\n",
       "内蒙古   3   14.90  61.25      2.29      12.12  97.10"
      ]
     },
     "execution_count": 3,
     "metadata": {},
     "output_type": "execute_result"
    }
   ],
   "source": [
    "df.head()"
   ]
  },
  {
   "cell_type": "code",
   "execution_count": 4,
   "metadata": {},
   "outputs": [
    {
     "data": {
      "text/plain": [
       "3"
      ]
     },
     "execution_count": 4,
     "metadata": {},
     "output_type": "execute_result"
    }
   ],
   "source": [
    "#对三个类别城市进行聚合\n",
    "group = df.groupby(by = \"类别\").groups\n",
    "len(group)"
   ]
  },
  {
   "cell_type": "code",
   "execution_count": 5,
   "metadata": {},
   "outputs": [],
   "source": [
    "col = df.columns.tolist()[1:]\n",
    "df1 = df.loc[group[1]][col]\n",
    "df2 = df.loc[group[2]][col]\n",
    "df3 = df.loc[group[3]][col]"
   ]
  },
  {
   "cell_type": "code",
   "execution_count": 6,
   "metadata": {},
   "outputs": [
    {
     "data": {
      "text/html": [
       "<div>\n",
       "<style scoped>\n",
       "    .dataframe tbody tr th:only-of-type {\n",
       "        vertical-align: middle;\n",
       "    }\n",
       "\n",
       "    .dataframe tbody tr th {\n",
       "        vertical-align: top;\n",
       "    }\n",
       "\n",
       "    .dataframe thead th {\n",
       "        text-align: right;\n",
       "    }\n",
       "</style>\n",
       "<table border=\"1\" class=\"dataframe\">\n",
       "  <thead>\n",
       "    <tr style=\"text-align: right;\">\n",
       "      <th></th>\n",
       "      <th>总资产贡献率</th>\n",
       "      <th>资产负债率</th>\n",
       "      <th>流动资产周转次数</th>\n",
       "      <th>工业成本费用利润率</th>\n",
       "      <th>产品销售率</th>\n",
       "    </tr>\n",
       "    <tr>\n",
       "      <th>地区</th>\n",
       "      <th></th>\n",
       "      <th></th>\n",
       "      <th></th>\n",
       "      <th></th>\n",
       "      <th></th>\n",
       "    </tr>\n",
       "  </thead>\n",
       "  <tbody>\n",
       "    <tr>\n",
       "      <th>北京</th>\n",
       "      <td>7.56</td>\n",
       "      <td>51.85</td>\n",
       "      <td>1.50</td>\n",
       "      <td>7.77</td>\n",
       "      <td>99.04</td>\n",
       "    </tr>\n",
       "    <tr>\n",
       "      <th>天津</th>\n",
       "      <td>17.41</td>\n",
       "      <td>63.47</td>\n",
       "      <td>2.26</td>\n",
       "      <td>9.41</td>\n",
       "      <td>98.89</td>\n",
       "    </tr>\n",
       "    <tr>\n",
       "      <th>河北</th>\n",
       "      <td>13.83</td>\n",
       "      <td>59.40</td>\n",
       "      <td>3.27</td>\n",
       "      <td>6.19</td>\n",
       "      <td>97.79</td>\n",
       "    </tr>\n",
       "    <tr>\n",
       "      <th>辽宁</th>\n",
       "      <td>14.45</td>\n",
       "      <td>57.93</td>\n",
       "      <td>3.09</td>\n",
       "      <td>5.37</td>\n",
       "      <td>97.79</td>\n",
       "    </tr>\n",
       "    <tr>\n",
       "      <th>上海</th>\n",
       "      <td>12.61</td>\n",
       "      <td>50.62</td>\n",
       "      <td>1.93</td>\n",
       "      <td>6.61</td>\n",
       "      <td>98.94</td>\n",
       "    </tr>\n",
       "  </tbody>\n",
       "</table>\n",
       "</div>"
      ],
      "text/plain": [
       "    总资产贡献率  资产负债率  流动资产周转次数  工业成本费用利润率  产品销售率\n",
       "地区                                           \n",
       "北京    7.56  51.85      1.50       7.77  99.04\n",
       "天津   17.41  63.47      2.26       9.41  98.89\n",
       "河北   13.83  59.40      3.27       6.19  97.79\n",
       "辽宁   14.45  57.93      3.09       5.37  97.79\n",
       "上海   12.61  50.62      1.93       6.61  98.94"
      ]
     },
     "execution_count": 6,
     "metadata": {},
     "output_type": "execute_result"
    }
   ],
   "source": [
    "df1.head()"
   ]
  },
  {
   "cell_type": "markdown",
   "metadata": {},
   "source": [
    "### 1 对三个类别的城市进行均值向量间的两两比较，查看结果\n",
    "使用组间均值相等性检验"
   ]
  },
  {
   "cell_type": "code",
   "execution_count": 7,
   "metadata": {},
   "outputs": [],
   "source": [
    "def multi_unparied_data(group1:pd.DataFrame,group2:pd.DataFrame,confidence=0.05):\n",
    "    # 计算检验统计量\n",
    "    n1=len(group1)\n",
    "    n2=len(group2)\n",
    "    p=np.shape(group1)[1] # 变量维度\n",
    "    mean1=np.mean(group1).values.T\n",
    "    mean2=np.mean(group2).values.T\n",
    "    S1=np.cov(group1.T)\n",
    "    S2=np.cov(group2.T)\n",
    "    Sp=((n1-1)*S1+(n2-1)*S2)/(n1+n2-2)\n",
    "    T2=n1*n2*(mean1-mean2).T@np.linalg.inv(Sp)@(mean1-mean2)/(n1+n2)\n",
    "    Test_statistics=(n1+n2-p-1)*T2/(p*(n1+n2-2))\n",
    "\n",
    "    # 计算p值\n",
    "    pvalue=f.sf(Test_statistics,p,n1+n2-p-1)\n",
    "\n",
    "    # 比较p值与显著性水平\n",
    "    if pvalue<confidence:\n",
    "        print('在显著性水平{0:}下，两组样本所在总体的均值向量不相等。(p={1:.4f})'.format(confidence,pvalue))\n",
    "    else:\n",
    "        print('在显著性水平{0:}下，两组样本所在总体的均值向量相等。(p={1:.4f})'.format(confidence,pvalue))\n",
    "    return pvalue"
   ]
  },
  {
   "cell_type": "code",
   "execution_count": 8,
   "metadata": {},
   "outputs": [
    {
     "name": "stdout",
     "output_type": "stream",
     "text": [
      "----比较东部城市和中部城市的均值----\n",
      "在显著性水平0.05下，两组样本所在总体的均值向量相等。(p=0.2793)\n",
      "----比较东部城市和西部城市的均值----\n",
      "在显著性水平0.05下，两组样本所在总体的均值向量不相等。(p=0.0097)\n",
      "----比较中部城市和西部城市的均值----\n",
      "在显著性水平0.05下，两组样本所在总体的均值向量不相等。(p=0.0470)\n"
     ]
    }
   ],
   "source": [
    "dflis = [df1,df2,df3]\n",
    "lis = list(range(len(dflis)))\n",
    "name = [\"东部城市\",\"中部城市\",\"西部城市\"]\n",
    "for source, target in product(lis,lis):\n",
    "    if source >= target:\n",
    "        continue\n",
    "    print('----比较{}和{}的均值----'.format(name[source],name[target]))\n",
    "    multi_unparied_data(dflis[source],dflis[target])\n",
    "        "
   ]
  },
  {
   "cell_type": "markdown",
   "metadata": {},
   "source": [
    "可以看出在显著型水平0.05下，东部和中部城市均值相等，他们和西部城市的均值都不相等。"
   ]
  },
  {
   "cell_type": "markdown",
   "metadata": {},
   "source": [
    "### 2 对三个类别的城市同时进行均值向量间的比较，查看结果\n",
    "样本组数是3，使用多元方差分析"
   ]
  },
  {
   "cell_type": "code",
   "execution_count": 9,
   "metadata": {},
   "outputs": [],
   "source": [
    "from statsmodels.multivariate.manova import MANOVA"
   ]
  },
  {
   "cell_type": "code",
   "execution_count": 10,
   "metadata": {},
   "outputs": [],
   "source": [
    "model=MANOVA.from_formula(\"+\".join(col)+'~ 类别', data=df).mv_test()"
   ]
  },
  {
   "cell_type": "code",
   "execution_count": 11,
   "metadata": {},
   "outputs": [
    {
     "name": "stdout",
     "output_type": "stream",
     "text": [
      "                           Value Num DF Den DF  F Value      Pr > F\n",
      "Wilks' lambda           0.535029      5     25  4.34528  0.00554155\n",
      "Pillai's trace          0.464971      5     25  4.34528  0.00554155\n",
      "Hotelling-Lawley trace  0.869057      5     25  4.34528  0.00554155\n",
      "Roy's greatest root     0.869057      5     25  4.34528  0.00554155\n"
     ]
    }
   ],
   "source": [
    "print(model.results['类别']['stat'])"
   ]
  },
  {
   "cell_type": "markdown",
   "metadata": {},
   "source": [
    "在上述报告表中，看Wilks' lambda的p值。此处$p=0.00554155$，我们不能接受原假设，3组均值向量有显著差别。"
   ]
  },
  {
   "cell_type": "markdown",
   "metadata": {},
   "source": [
    "### 3 承接问题2，你认为哪些变量导致了三个类别城市均值向量的差异？说出你的理由。"
   ]
  },
  {
   "cell_type": "markdown",
   "metadata": {},
   "source": [
    "则需要对变量进行分别分析"
   ]
  },
  {
   "cell_type": "code",
   "execution_count": 12,
   "metadata": {},
   "outputs": [],
   "source": [
    "def single_val_foneway(df1,df2,df3,col,confidence = 0.05):\n",
    "    for val in col:\n",
    "        print('----对 {} 进行一元方差分析----'.format(val))\n",
    "        fre = stats.f_oneway(df1[val].values,df2[val].values,df3[val].values)\n",
    "        print(fre)\n",
    "        pvalue = fre.pvalue\n",
    "        if pvalue<confidence:\n",
    "            print('在显著性水平{0:}下，三组样本所在总体的均值不相等。(p={1:.4f})'.format(confidence,pvalue))\n",
    "        else:\n",
    "            print('在显著性水平{0:}下，三组样本所在总体的均值相等。(p={1:.4f})'.format(confidence,pvalue))"
   ]
  },
  {
   "cell_type": "code",
   "execution_count": 13,
   "metadata": {},
   "outputs": [
    {
     "name": "stdout",
     "output_type": "stream",
     "text": [
      "----对 总资产贡献率 进行一元方差分析----\n",
      "F_onewayResult(statistic=3.5776324463321805, pvalue=0.04133778417613981)\n",
      "在显著性水平0.05下，三组样本所在总体的均值不相等。(p=0.0413)\n",
      "----对 资产负债率 进行一元方差分析----\n",
      "F_onewayResult(statistic=0.7703999845168195, pvalue=0.47239023585585066)\n",
      "在显著性水平0.05下，三组样本所在总体的均值相等。(p=0.4724)\n",
      "----对 流动资产周转次数 进行一元方差分析----\n",
      "F_onewayResult(statistic=6.484356111904944, pvalue=0.0048515449323179)\n",
      "在显著性水平0.05下，三组样本所在总体的均值不相等。(p=0.0049)\n",
      "----对 工业成本费用利润率 进行一元方差分析----\n",
      "F_onewayResult(statistic=2.125754135219324, pvalue=0.13820126688080314)\n",
      "在显著性水平0.05下，三组样本所在总体的均值相等。(p=0.1382)\n",
      "----对 产品销售率 进行一元方差分析----\n",
      "F_onewayResult(statistic=4.847034218142545, pvalue=0.015573643638731122)\n",
      "在显著性水平0.05下，三组样本所在总体的均值不相等。(p=0.0156)\n"
     ]
    }
   ],
   "source": [
    "single_val_foneway(df1,df2,df3,col)"
   ]
  },
  {
   "cell_type": "markdown",
   "metadata": {},
   "source": [
    "由于 流动资产周转次数 p值很小，让我们剔除它，再做一次多元方差分析"
   ]
  },
  {
   "cell_type": "code",
   "execution_count": 14,
   "metadata": {},
   "outputs": [],
   "source": [
    "col.remove(\"流动资产周转次数\")"
   ]
  },
  {
   "cell_type": "code",
   "execution_count": 15,
   "metadata": {},
   "outputs": [
    {
     "name": "stdout",
     "output_type": "stream",
     "text": [
      "                           Value Num DF Den DF  F Value      Pr > F\n",
      "Wilks' lambda           0.551704      4     26  5.28168  0.00299547\n",
      "Pillai's trace          0.448296      4     26  5.28168  0.00299547\n",
      "Hotelling-Lawley trace  0.812566      4     26  5.28168  0.00299547\n",
      "Roy's greatest root     0.812566      4     26  5.28168  0.00299547\n"
     ]
    }
   ],
   "source": [
    "model=MANOVA.from_formula(\"+\".join(col)+'~ 类别', data=df).mv_test()\n",
    "print(model.results['类别']['stat'])"
   ]
  },
  {
   "cell_type": "markdown",
   "metadata": {},
   "source": [
    "在上述报告表中，看Wilks' lambda的p值。此处$p=0.00299547$，我们依然不能接受原假设，3组均值向量有显著差别。"
   ]
  },
  {
   "cell_type": "markdown",
   "metadata": {},
   "source": [
    "由于 产品销售率 p值也很小，让我们再剔除它，再做一次多元方差分析"
   ]
  },
  {
   "cell_type": "code",
   "execution_count": 16,
   "metadata": {},
   "outputs": [],
   "source": [
    "col.remove(\"产品销售率\")"
   ]
  },
  {
   "cell_type": "code",
   "execution_count": 17,
   "metadata": {},
   "outputs": [
    {
     "name": "stdout",
     "output_type": "stream",
     "text": [
      "                           Value Num DF Den DF  F Value     Pr > F\n",
      "Wilks' lambda           0.671812      3     27  4.39661  0.0121144\n",
      "Pillai's trace          0.328188      3     27  4.39661  0.0121144\n",
      "Hotelling-Lawley trace  0.488513      3     27  4.39661  0.0121144\n",
      "Roy's greatest root     0.488513      3     27  4.39661  0.0121144\n"
     ]
    }
   ],
   "source": [
    "model=MANOVA.from_formula(\"+\".join(col)+'~ 类别', data=df).mv_test()\n",
    "print(model.results['类别']['stat'])"
   ]
  },
  {
   "cell_type": "markdown",
   "metadata": {},
   "source": [
    "在上述报告表中，看Wilks' lambda的p值。此处$p=0.0121144$，我们依然不能接受原假设，3组均值向量有显著差别。"
   ]
  },
  {
   "cell_type": "markdown",
   "metadata": {},
   "source": [
    "由于 总资产贡献率 p值也很小，让我们继续剔除它，再做一次多元方差分析"
   ]
  },
  {
   "cell_type": "code",
   "execution_count": 18,
   "metadata": {},
   "outputs": [],
   "source": [
    "col.remove(\"总资产贡献率\")"
   ]
  },
  {
   "cell_type": "code",
   "execution_count": 19,
   "metadata": {},
   "outputs": [
    {
     "name": "stdout",
     "output_type": "stream",
     "text": [
      "                           Value Num DF Den DF  F Value     Pr > F\n",
      "Wilks' lambda           0.735822      2     28  5.02634  0.0136402\n",
      "Pillai's trace          0.264178      2     28  5.02634  0.0136402\n",
      "Hotelling-Lawley trace  0.359024      2     28  5.02634  0.0136402\n",
      "Roy's greatest root     0.359024      2     28  5.02634  0.0136402\n"
     ]
    }
   ],
   "source": [
    "model=MANOVA.from_formula(\"+\".join(col)+'~ 类别', data=df).mv_test()\n",
    "print(model.results['类别']['stat'])"
   ]
  },
  {
   "cell_type": "markdown",
   "metadata": {},
   "source": [
    "在上述报告表中，看Wilks' lambda的p值。此处$p=0.0136402$，我们依然不能接受原假设，3组均值向量有显著差别。"
   ]
  },
  {
   "cell_type": "markdown",
   "metadata": {},
   "source": [
    "此时再次剔除变量已经没有意义，因为只剩下两个变量"
   ]
  },
  {
   "cell_type": "code",
   "execution_count": 20,
   "metadata": {},
   "outputs": [
    {
     "data": {
      "text/plain": [
       "['资产负债率', '工业成本费用利润率']"
      ]
     },
     "execution_count": 20,
     "metadata": {},
     "output_type": "execute_result"
    }
   ],
   "source": [
    "col"
   ]
  },
  {
   "cell_type": "markdown",
   "metadata": {},
   "source": [
    "我们可以认为，所有的变量共同导致了三个类别城市均值向量的差异，因为无论剔除哪个变量，3组均值向量均有显著区别。尽管'资产负债率', '工业成本费用利润率'在单变量方差分析中是显著的，但是多元方差分析中却不显著。"
   ]
  }
 ],
 "metadata": {
  "kernelspec": {
   "display_name": "Python 3",
   "language": "python",
   "name": "python3"
  },
  "language_info": {
   "codemirror_mode": {
    "name": "ipython",
    "version": 3
   },
   "file_extension": ".py",
   "mimetype": "text/x-python",
   "name": "python",
   "nbconvert_exporter": "python",
   "pygments_lexer": "ipython3",
   "version": "3.7.3"
  }
 },
 "nbformat": 4,
 "nbformat_minor": 4
}
