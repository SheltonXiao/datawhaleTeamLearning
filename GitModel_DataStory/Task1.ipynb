{
 "cells": [
  {
   "cell_type": "markdown",
   "metadata": {},
   "source": [
    "# Task 01 假设检验1-方法论与一元数值检验\n",
    "## 作业"
   ]
  },
  {
   "cell_type": "markdown",
   "metadata": {},
   "source": [
    "三台车床生产同一种滚珠，我们从中各抽取13、14、16个产品，测得直径分别为：\n",
    "\n",
    "甲车床：15.0,14.5,15.2,15.5,14.8,15.1,15.2,14.8,13.9,16.0,15.1,14.5,15.2;\n",
    "\n",
    "乙车床：15.2,15.0,14.8,15.2,15.0,15.0,14.8,15.1,14.8,15.0,13.7,14.1,15.5,15.9;\n",
    "\n",
    "丙车床：14.6,15.0,14.7,13.9,13.8,15.5,15.5,16.2,16.1,15.3,15.4,15,9,15.2,16.0,14.8,14.9\n",
    "\n",
    "假设显著性水平为$\\alpha = 0.1$，问：\n",
    "\n",
    "1. 甲/乙车床生产的滚珠直径是否服从正态分布？\n",
    "\n",
    "2. 甲/乙车床生产的滚珠直径的方差是否存在显著性差异？\n",
    "\n",
    "3. 甲/乙车床生产的滚珠直径是否存在显著性差异？\n",
    "\n",
    "4. 三台车床生产的滚珠直径是否存在显著性差异？在单因素方差分析中，本题的因素是什么？"
   ]
  },
  {
   "cell_type": "code",
   "execution_count": 1,
   "metadata": {},
   "outputs": [],
   "source": [
    "import numpy as np\n",
    "import pandas as pd\n",
    "from scipy import stats\n",
    "import matplotlib.pyplot as plt\n",
    "from IPython.display import display"
   ]
  },
  {
   "cell_type": "code",
   "execution_count": 2,
   "metadata": {},
   "outputs": [],
   "source": [
    "a = np.array([15.0,14.5,15.2,15.5,14.8,15.1,15.2,14.8,13.9,16.0,15.1,14.5,15.2])\n",
    "b = np.array([15.2,15.0,14.8,15.2,15.0,15.0,14.8,15.1,14.8,15.0,13.7,14.1,15.5,15.9])\n",
    "c = np.array([14.6,15.0,14.7,13.9,13.8,15.5,15.5,16.2,16.1,15.3,15.4,15,9,15.2,16.0,14.8,14.9])"
   ]
  },
  {
   "cell_type": "markdown",
   "metadata": {},
   "source": [
    "### 1. 甲/乙车床生产的滚珠直径是否服从正态分布\n",
    "——正态分布假设检验"
   ]
  },
  {
   "cell_type": "code",
   "execution_count": 3,
   "metadata": {},
   "outputs": [],
   "source": [
    "# 定义一个正态性检验函数，它可以输出：\n",
    "## 正态概率图\n",
    "## 小样本Shapiro-Wilk检验的p值\n",
    "## 大样本D'Agostino's K-squared检验的p值\n",
    "\n",
    "from statsmodels.stats.diagnostic import lilliefors\n",
    "from typing import List\n",
    "\n",
    "def check_normality(data: np.ndarray, show_flag: bool=True) -> List[float]:\n",
    "    \"\"\"\n",
    "    输入参数\n",
    "    ----------\n",
    "    data : numpy数组或者pandas.Series\n",
    "    show_flag : 是否显示概率图\n",
    "    Returns\n",
    "    -------\n",
    "    两种检验的p值；概率图\n",
    "    \"\"\"\n",
    "\n",
    "    if show_flag:\n",
    "        _ = stats.probplot(data, plot=plt)\n",
    "        plt.show()\n",
    "\n",
    "    pVals = pd.Series(dtype='float64')\n",
    "    # D'Agostino's K-squared test\n",
    "    _, pVals['Omnibus'] = stats.normaltest(data) \n",
    "\n",
    "    # Shapiro-Wilk test\n",
    "    _, pVals['Shapiro-Wilk'] = stats.shapiro(data)\n",
    "\n",
    "    print(f'数据量为{len(data)}的数据集正态性假设检验的结果 : ----------------')\n",
    "    print(pVals)"
   ]
  },
  {
   "cell_type": "markdown",
   "metadata": {},
   "source": [
    "对甲车床"
   ]
  },
  {
   "cell_type": "code",
   "execution_count": 4,
   "metadata": {},
   "outputs": [
    {
     "data": {
      "image/png": "[encoded data removed]",
      "text/plain": [
       "<Figure size 432x288 with 1 Axes>"
      ]
     },
     "metadata": {
      "needs_background": "light"
     },
     "output_type": "display_data"
    },
    {
     "name": "stdout",
     "output_type": "stream",
     "text": [
      "数据量为13的数据集正态性假设检验的结果 : ----------------\n",
      "Omnibus         0.487527\n",
      "Shapiro-Wilk    0.717017\n",
      "dtype: float64\n"
     ]
    },
    {
     "name": "stderr",
     "output_type": "stream",
     "text": [
      "d:\\programdata\\python\\python37\\lib\\site-packages\\scipy\\stats\\stats.py:1604: UserWarning: kurtosistest only valid for n>=20 ... continuing anyway, n=13\n",
      "  \"anyway, n=%i\" % int(n))\n"
     ]
    }
   ],
   "source": [
    "check_normality(a,show_flag=True)"
   ]
  },
  {
   "cell_type": "markdown",
   "metadata": {},
   "source": [
    "数据量为13，采用Omnibus的结果，$p=0.487527>\\alpha$，可以接受甲车床生产的滚珠直径服从正态分布的假设"
   ]
  },
  {
   "cell_type": "markdown",
   "metadata": {},
   "source": [
    "对乙车床"
   ]
  },
  {
   "cell_type": "code",
   "execution_count": 5,
   "metadata": {},
   "outputs": [
    {
     "data": {
      "image/png": "[encoded data removed]",
      "text/plain": [
       "<Figure size 432x288 with 1 Axes>"
      ]
     },
     "metadata": {
      "needs_background": "light"
     },
     "output_type": "display_data"
    },
    {
     "name": "stdout",
     "output_type": "stream",
     "text": [
      "数据量为14的数据集正态性假设检验的结果 : ----------------\n",
      "Omnibus         0.127615\n",
      "Shapiro-Wilk    0.111537\n",
      "dtype: float64\n"
     ]
    },
    {
     "name": "stderr",
     "output_type": "stream",
     "text": [
      "d:\\programdata\\python\\python37\\lib\\site-packages\\scipy\\stats\\stats.py:1604: UserWarning: kurtosistest only valid for n>=20 ... continuing anyway, n=14\n",
      "  \"anyway, n=%i\" % int(n))\n"
     ]
    }
   ],
   "source": [
    "check_normality(b,show_flag=True)"
   ]
  },
  {
   "cell_type": "markdown",
   "metadata": {},
   "source": [
    "数据量为14，采用Omnibus的结果，$p=0.127615>\\alpha$，可以接受乙车床生产的滚珠直径服从正态分布的假设"
   ]
  },
  {
   "cell_type": "markdown",
   "metadata": {},
   "source": [
    "### 2. 甲/乙车床生产的滚珠直径的方差是否存在显著性差异？\n",
    "——方差分析-多组样本间的均值相等性检验"
   ]
  },
  {
   "cell_type": "code",
   "execution_count": 6,
   "metadata": {},
   "outputs": [],
   "source": [
    "from typing import Tuple\n",
    "\n",
    "def anova_oneway(data = [],alpha = 0.05) -> Tuple[float, float]:\n",
    "\n",
    "    pVal=pd.Series(dtype='float64')\n",
    "\n",
    "    # 先做方差齐性检验\n",
    "    _,pVal['levene'] = stats.levene(*data)\n",
    "    if pVal['levene']<alpha: #这里假设显著性水平为0.05\n",
    "        print('警告: 方差齐性检验的p值小于0.05: p={}，方差分析结果在小样本下可能不准确'.format(pVal['levene']))\n",
    "        print('-------------------------------')\n",
    "\n",
    "    # 单因素方差分析-假设样本服从正态分布\n",
    "    _, pVal['anova_oneway_normal'] = stats.f_oneway(*data) # 在这里输入待分析的数据\n",
    "    \n",
    "    print('若样本服从正态分布，单因素方差分析的p值为{}'.format(pVal['anova_oneway_normal']))\n",
    "    if pVal['anova_oneway_normal'] < alpha:\n",
    "        print('检验在0.05的显著性水平下显著，多组样本中至少存在一组样本均值与其它样本的均值不相等。')\n",
    "\n",
    "    print('---------------------------------')\n",
    "\n",
    "    # 单因素方差分析-假设样本不服从正态分布\n",
    "    _, pVal['anova_oneway_notnormal'] = stats.mstats.kruskalwallis(*data) # 在这里输入待分析的数据\n",
    "    \n",
    "    print('若样本不服从正态分布，单因素方差分析的p值为{}'.format(pVal['anova_oneway_notnormal']))\n",
    "    if pVal['anova_oneway_notnormal'] < alpha:\n",
    "        print('检验在0.05的显著性水平下显著，多组样本中至少存在一组样本均值与其它样本的均值不相等。')    \n",
    "\n",
    "    return pVal"
   ]
  },
  {
   "cell_type": "code",
   "execution_count": 7,
   "metadata": {},
   "outputs": [
    {
     "name": "stdout",
     "output_type": "stream",
     "text": [
      "若样本服从正态分布，单因素方差分析的p值为0.8108623516661462\n",
      "---------------------------------\n",
      "若样本不服从正态分布，单因素方差分析的p值为0.7499948397394788\n"
     ]
    },
    {
     "data": {
      "text/plain": [
       "levene                    0.865593\n",
       "anova_oneway_normal       0.810862\n",
       "anova_oneway_notnormal    0.749995\n",
       "dtype: float64"
      ]
     },
     "execution_count": 7,
     "metadata": {},
     "output_type": "execute_result"
    }
   ],
   "source": [
    "anova_oneway(data = [a,b],alpha=0.1)"
   ]
  },
  {
   "cell_type": "markdown",
   "metadata": {},
   "source": [
    "$p=0.865593>\\alpha$，甲车床生产的滚珠直径与乙车床方差不存在显著差异"
   ]
  },
  {
   "cell_type": "markdown",
   "metadata": {},
   "source": [
    "### 3.甲/乙车床生产的滚珠直径是否存在显著性差异\n",
    "——方差分析-多组样本间的均值相等性检验"
   ]
  },
  {
   "cell_type": "markdown",
   "metadata": {},
   "source": [
    "由1，甲乙车床生产的滚珠直径均服从正态分布，由2，方差分析-多组样本间的均值相等性检验$p=0.810862>\\alpha$，甲车床生产的滚珠直径与乙车床均值不存在显著差异"
   ]
  },
  {
   "cell_type": "markdown",
   "metadata": {},
   "source": [
    "### 4.三台车床生产的滚珠直径是否存在显著性差异？在单因素方差分析中，本题的因素是什么？\n",
    "——方差分析-多组样本间的均值相等性检验"
   ]
  },
  {
   "cell_type": "markdown",
   "metadata": {},
   "source": [
    "首先判断丙车床生产的滚珠直径是否服从正态分布"
   ]
  },
  {
   "cell_type": "code",
   "execution_count": 8,
   "metadata": {},
   "outputs": [
    {
     "data": {
      "image/png": "[encoded data removed]",
      "text/plain": [
       "<Figure size 432x288 with 1 Axes>"
      ]
     },
     "metadata": {
      "needs_background": "light"
     },
     "output_type": "display_data"
    },
    {
     "name": "stdout",
     "output_type": "stream",
     "text": [
      "数据量为17的数据集正态性假设检验的结果 : ----------------\n",
      "Omnibus         9.796679e-08\n",
      "Shapiro-Wilk    3.649597e-05\n",
      "dtype: float64\n"
     ]
    },
    {
     "name": "stderr",
     "output_type": "stream",
     "text": [
      "d:\\programdata\\python\\python37\\lib\\site-packages\\scipy\\stats\\stats.py:1604: UserWarning: kurtosistest only valid for n>=20 ... continuing anyway, n=17\n",
      "  \"anyway, n=%i\" % int(n))\n"
     ]
    }
   ],
   "source": [
    "check_normality(c,show_flag=True)"
   ]
  },
  {
   "cell_type": "markdown",
   "metadata": {},
   "source": [
    "数据量为17，采用Omnibus的结果，$p=9.796679e-08<\\alpha$，丙车床生产的滚珠直径不服从正态分布"
   ]
  },
  {
   "cell_type": "code",
   "execution_count": 9,
   "metadata": {},
   "outputs": [
    {
     "name": "stdout",
     "output_type": "stream",
     "text": [
      "若样本服从正态分布，单因素方差分析的p值为0.8350931874298759\n",
      "---------------------------------\n",
      "若样本不服从正态分布，单因素方差分析的p值为0.8624406173813932\n"
     ]
    },
    {
     "data": {
      "text/plain": [
       "levene                    0.221198\n",
       "anova_oneway_normal       0.835093\n",
       "anova_oneway_notnormal    0.862441\n",
       "dtype: float64"
      ]
     },
     "execution_count": 9,
     "metadata": {},
     "output_type": "execute_result"
    }
   ],
   "source": [
    "anova_oneway(data = [a,b,c],alpha=0.1)"
   ]
  },
  {
   "cell_type": "markdown",
   "metadata": {},
   "source": [
    "三组样本不全服从正态分布，$p=0.862441>\\alpha$，三台车床生产的滚珠直径不存在显著性差异。"
   ]
  },
  {
   "cell_type": "markdown",
   "metadata": {},
   "source": [
    "在单因素方差分析中，本题的因素是车床因素"
   ]
  }
 ],
 "metadata": {
  "kernelspec": {
   "display_name": "Python 3",
   "language": "python",
   "name": "python3"
  },
  "language_info": {
   "codemirror_mode": {
    "name": "ipython",
    "version": 3
   },
   "file_extension": ".py",
   "mimetype": "text/x-python",
   "name": "python",
   "nbconvert_exporter": "python",
   "pygments_lexer": "ipython3",
   "version": "3.7.3"
  }
 },
 "nbformat": 4,
 "nbformat_minor": 4
}
